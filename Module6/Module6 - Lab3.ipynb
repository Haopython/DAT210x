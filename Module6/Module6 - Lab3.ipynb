{
 "cells": [
  {
   "cell_type": "markdown",
   "metadata": {},
   "source": [
    "# DAT210x - Programming with Python for DS"
   ]
  },
  {
   "cell_type": "markdown",
   "metadata": {},
   "source": [
    "## Module6- Lab3"
   ]
  },
  {
   "cell_type": "markdown",
   "metadata": {},
   "source": [
    "This code is intentionally missing! Read the directions on the course lab page!"
   ]
  },
  {
   "cell_type": "code",
   "execution_count": 1,
   "metadata": {},
   "outputs": [
    {
     "name": "stderr",
     "output_type": "stream",
     "text": [
      "C:\\Users\\alloq\\Anaconda3\\lib\\site-packages\\sklearn\\cross_validation.py:41: DeprecationWarning: This module was deprecated in version 0.18 in favor of the model_selection module into which all the refactored classes and functions are moved. Also note that the interface of the new CV iterators are different from that of this module. This module will be removed in 0.20.\n",
      "  \"This module will be removed in 0.20.\", DeprecationWarning)\n"
     ]
    }
   ],
   "source": [
    "import pandas as pd\n",
    "import numpy as np\n",
    "from sklearn import preprocessing\n",
    "from sklearn.decomposition import PCA\n",
    "from sklearn.manifold import Isomap\n",
    "from sklearn.svm import SVC\n",
    "from sklearn.cross_validation import train_test_split"
   ]
  },
  {
   "cell_type": "markdown",
   "metadata": {},
   "source": [
    "Load up the /Module6/Datasets/parkinsons.data data set into a variable X, being sure to drop the name column."
   ]
  },
  {
   "cell_type": "code",
   "execution_count": 2,
   "metadata": {},
   "outputs": [
    {
     "data": {
      "text/plain": [
       "MDVP:Fo(Hz)         0\n",
       "MDVP:Fhi(Hz)        0\n",
       "MDVP:Flo(Hz)        0\n",
       "MDVP:Jitter(%)      0\n",
       "MDVP:Jitter(Abs)    0\n",
       "MDVP:RAP            0\n",
       "MDVP:PPQ            0\n",
       "Jitter:DDP          0\n",
       "MDVP:Shimmer        0\n",
       "MDVP:Shimmer(dB)    0\n",
       "Shimmer:APQ3        0\n",
       "Shimmer:APQ5        0\n",
       "MDVP:APQ            0\n",
       "Shimmer:DDA         0\n",
       "NHR                 0\n",
       "HNR                 0\n",
       "status              0\n",
       "RPDE                0\n",
       "DFA                 0\n",
       "spread1             0\n",
       "spread2             0\n",
       "D2                  0\n",
       "PPE                 0\n",
       "dtype: int64"
      ]
     },
     "execution_count": 2,
     "metadata": {},
     "output_type": "execute_result"
    }
   ],
   "source": [
    "X = pd.read_csv('Datasets/parkinsons.data')\n",
    "X.drop('name', axis = 1, inplace = True)\n",
    "X.head()\n",
    "X.describe()\n",
    "X.isnull().sum() # No NaNs!\n",
    "X.dtypes # All object types are correct!\n",
    "X.isnull().sum()"
   ]
  },
  {
   "cell_type": "markdown",
   "metadata": {},
   "source": [
    "Splice out the status column into a variable y and delete it from X."
   ]
  },
  {
   "cell_type": "code",
   "execution_count": 3,
   "metadata": {},
   "outputs": [
    {
     "data": {
      "text/plain": [
       "Index(['MDVP:Fo(Hz)', 'MDVP:Fhi(Hz)', 'MDVP:Flo(Hz)', 'MDVP:Jitter(%)',\n",
       "       'MDVP:Jitter(Abs)', 'MDVP:RAP', 'MDVP:PPQ', 'Jitter:DDP',\n",
       "       'MDVP:Shimmer', 'MDVP:Shimmer(dB)', 'Shimmer:APQ3', 'Shimmer:APQ5',\n",
       "       'MDVP:APQ', 'Shimmer:DDA', 'NHR', 'HNR', 'RPDE', 'DFA', 'spread1',\n",
       "       'spread2', 'D2', 'PPE'],\n",
       "      dtype='object')"
      ]
     },
     "execution_count": 3,
     "metadata": {},
     "output_type": "execute_result"
    }
   ],
   "source": [
    "y = X.status\n",
    "X.drop('status', axis = 1, inplace = True)\n",
    "X.columns # 'status' has been dropped from X"
   ]
  },
  {
   "cell_type": "markdown",
   "metadata": {},
   "source": [
    "Wait a second. Pull open the dataset's label file from: https://archive.ics.uci.edu/ml/datasets/Parkinsons\n",
    "Look at the units on those columns: Hz, %, Abs, dB, etc. What happened to transforming your data? With all of those units\n",
    "interacting with one another, some pre-processing is surely in order. Right after you splice out the status column, but before\n",
    "you process the train/test split, inject SciKit-Learn pre-processing code. Unless you have a good idea which one is going to work\n",
    "best, you're going to have to try the various pre-processors one at a time, checking to see if they improve your predictive accuracy.\n",
    "Experiment with Normalizer(), MaxAbsScaler(), MinMaxScaler(), and StandardScaler()."
   ]
  },
  {
   "cell_type": "code",
   "execution_count": 4,
   "metadata": {},
   "outputs": [],
   "source": [
    "T = preprocessing.StandardScaler().fit_transform(X)\n",
    "#T = preprocessing.MinMaxScaler().fit_transform(X)\n",
    "#T = preprocessing.Normalizer().fit_transform(X)\n",
    "#T = preprocessing.MaxAbsScaler().fit_transform(X)\n",
    "#T = X # No Change"
   ]
  },
  {
   "cell_type": "markdown",
   "metadata": {},
   "source": [
    "The accuracy score keeps creeping upwards. Let's have one more go at it. Remember how in a previous lab we discovered that SVM's\n",
    "are a bit sensitive to outliers and that just throwing all of our unfiltered, dirty or noisy data at it, particularly in\n",
    "high-dimensionality space, can actually cause the accuracy score to suffer?\n",
    "Well, let's try to get rid of some useless features. Immediately after you do the pre-processing, run PCA on your dataset. The\n",
    "original dataset has 22 columns and 1 label column. So try experimenting with PCA n_component values between 4 and 14. Are you able\n",
    "to get a better accuracy?"
   ]
  },
  {
   "cell_type": "markdown",
   "metadata": {},
   "source": [
    "No, the accuracy levels off at the same value as before from 7 components onwards.\n",
    "\n",
    "If you are not, then forget about PCA entirely, unless you want to visualize your data. However if you are able to get a higher score,\n",
    "then be *sure* keep that figure in mind, and comment out all the PCA code.\n",
    "In the same spot, run Isomap on the data, before sending it to the train / test split. Manually experiment with every inclusive\n",
    "combination of n_neighbors between 2 and 5, and n_components between 4 and 6. Are you able to get a better accuracy?"
   ]
  },
  {
   "cell_type": "markdown",
   "metadata": {},
   "source": [
    "Isomap with neighbors = 3, components = 5 or 6 provide the highest score."
   ]
  },
  {
   "cell_type": "markdown",
   "metadata": {},
   "source": [
    "Program a naive, best-parameter searcher by creating a nested for-loops. The outer for-loop should iterate a variable C\n",
    "from 0.05 to 2, using 0.05 unit increments. The inner for-loop should increment a variable gamma from 0.001 to 0.1, using\n",
    "0.001 unit increments. As you know, Python ranges won't allow for float intervals, so you'll have to do some research on\n",
    "NumPy ARanges, if you don't already know how to use them."
   ]
  },
  {
   "cell_type": "markdown",
   "metadata": {},
   "source": [
    "Since the goal is to find the parameters that result in the model having the best score, you'll need a best_score = 0 variable\n",
    "that you initialize outside of the for-loops. Inside the for-loop, create a model and pass in the C and gamma parameters into\n",
    "the class constructor. Train and score the model appropriately. If the current best_score is less than the model's score, then\n",
    "update the best_score, being sure to print it out, along with the C and gamma values that resulted in it.   "
   ]
  },
  {
   "cell_type": "code",
   "execution_count": 5,
   "metadata": {},
   "outputs": [
    {
     "name": "stdout",
     "output_type": "stream",
     "text": [
      "The highest score obtained: 0.9661016949152542\n",
      "C value: 1.7000000000000002\n",
      "gamma value: 0.060000000000000005\n",
      "isomap n_neighbors 2\n",
      "isomap n_components 4\n"
     ]
    }
   ],
   "source": [
    "best_score = 0\n",
    "     \n",
    "for k in range(2, 6):\n",
    "    for l in range(4, 7):\n",
    "        iso = Isomap(n_neighbors = k, n_components = l)\n",
    "        X_iso = iso.fit_transform(T)\n",
    "        X_train, X_test, y_train, y_test = train_test_split(X_iso, y, test_size = 0.3, random_state = 7)\n",
    "        for i in np.arange(start = 0.05, stop = 2.05, step = 0.05):\n",
    "            for j in np.arange(start = 0.001, stop = 0.101, step = 0.001):\n",
    "                model = SVC(C = i, gamma = j)\n",
    "                model.fit(X_train, y_train)\n",
    "                score = model.score(X_test, y_test)\n",
    "                if score > best_score:\n",
    "                    best_score = score\n",
    "                    best_C = model.C\n",
    "                    best_gamma = model.gamma\n",
    "                    best_n_neighbors = iso.n_neighbors\n",
    "                    best_n_components = iso.n_components\n",
    "print(\"The highest score obtained:\", best_score)\n",
    "print(\"C value:\", best_C )\n",
    "print(\"gamma value:\", best_gamma)\n",
    "print('isomap n_neighbors', best_n_neighbors)\n",
    "print('isomap n_components', best_n_components)\n",
    "                        \n"
   ]
  },
  {
   "cell_type": "code",
   "execution_count": 6,
   "metadata": {},
   "outputs": [
    {
     "name": "stdout",
     "output_type": "stream",
     "text": [
      "The highest score obtained: 0.9322033898305084\n",
      "C value: 1.7500000000000002\n",
      "gamma value: 0.099\n",
      "pca n_components 7\n"
     ]
    }
   ],
   "source": [
    "best_score = 0\n",
    "for i in range(4, 15):\n",
    "    pca = PCA(n_components = i)\n",
    "    X_pca = pca.fit_transform(T)\n",
    "    X_train, X_test, y_train, y_test = train_test_split(X_pca, y, test_size = 0.3, random_state = 7)\n",
    "    for i in np.arange(start = 0.05, stop = 2.05, step = 0.05):\n",
    "            for j in np.arange(start = 0.001, stop = 0.101, step = 0.001):\n",
    "                model = SVC(C = i, gamma = j)\n",
    "                model.fit(X_train, y_train)\n",
    "                score = model.score(X_test, y_test)\n",
    "                if score > best_score:\n",
    "                    best_score = score\n",
    "                    best_C = model.C\n",
    "                    best_gamma = model.gamma\n",
    "                    best_n_components = pca.n_components\n",
    "            \n",
    "print(\"The highest score obtained:\", best_score)\n",
    "print(\"C value:\", best_C )\n",
    "print(\"gamma value:\", best_gamma)\n",
    "print('pca n_components', best_n_components)"
   ]
  },
  {
   "cell_type": "markdown",
   "metadata": {},
   "source": [
    "If you are not, then forget about isomap entirely, unless you want to visualize your data. However if you are able to get a higher\n",
    "score, then be *sure* keep that figure in mind.\n",
    "If either PCA or Isomap helped you out, then uncomment out the appropriate transformation code so that you have the highest accuracy\n",
    "possible."
   ]
  },
  {
   "cell_type": "markdown",
   "metadata": {},
   "source": [
    "Lab Question 1:\n",
    "What accuracy did you score?\n",
    "Answer: 0.847457627118644"
   ]
  },
  {
   "cell_type": "markdown",
   "metadata": {},
   "source": [
    "Question 2: After running your assignment again, what is the highest accuracy score you are able to get?\n",
    "Answer: 0.8983050847457628"
   ]
  },
  {
   "cell_type": "markdown",
   "metadata": {},
   "source": [
    "Question 3: After trying all of these scalers, what is the new highest accuracy score you're able to achieve?\n",
    "Answer: 0.9322033898305084"
   ]
  },
  {
   "cell_type": "markdown",
   "metadata": {},
   "source": [
    "Question 4: What is your highest accuracy score on this assignment to date?\n",
    "Answer: The highest score obtained: 0.9661016949152542\n",
    "C value: 1.7000000000000002\n",
    "gamma value: 0.060000000000000005\n",
    "isomap n_neighbors 2\n",
    "isomap n_components 4"
   ]
  }
 ],
 "metadata": {
  "anaconda-cloud": {},
  "kernelspec": {
   "display_name": "Python 3",
   "language": "python",
   "name": "python3"
  },
  "language_info": {
   "codemirror_mode": {
    "name": "ipython",
    "version": 3
   },
   "file_extension": ".py",
   "mimetype": "text/x-python",
   "name": "python",
   "nbconvert_exporter": "python",
   "pygments_lexer": "ipython3",
   "version": "3.6.5"
  },
  "toc": {
   "colors": {
    "hover_highlight": "#DAA520",
    "running_highlight": "#FF0000",
    "selected_highlight": "#FFD700"
   },
   "moveMenuLeft": true,
   "nav_menu": {
    "height": "58px",
    "width": "252px"
   },
   "navigate_menu": true,
   "number_sections": true,
   "sideBar": true,
   "threshold": 4,
   "toc_cell": false,
   "toc_section_display": "block",
   "toc_window_display": false,
   "widenNotebook": false
  }
 },
 "nbformat": 4,
 "nbformat_minor": 2
}
