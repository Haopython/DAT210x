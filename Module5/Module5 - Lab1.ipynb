{
 "cells": [
  {
   "cell_type": "markdown",
   "metadata": {},
   "source": [
    "# DAT210x - Programming with Python for DS"
   ]
  },
  {
   "cell_type": "markdown",
   "metadata": {},
   "source": [
    "## Module5- Lab1"
   ]
  },
  {
   "cell_type": "markdown",
   "metadata": {
    "collapsed": true
   },
   "source": [
    "Start by importing whatever you need to import in order to make this lab work:"
   ]
  },
  {
   "cell_type": "code",
   "execution_count": 25,
   "metadata": {},
   "outputs": [],
   "source": [
    "# .. your code here ..\n",
    "import matplotlib.pyplot as plt\n",
    "import pandas as pd\n",
    "from sklearn.cluster import KMeans\n",
    "from scipy import stats"
   ]
  },
  {
   "cell_type": "markdown",
   "metadata": {
    "collapsed": true
   },
   "source": [
    "### How to Get The Dataset"
   ]
  },
  {
   "cell_type": "markdown",
   "metadata": {
    "collapsed": true
   },
   "source": [
    "1. Open up the City of Chicago's [Open Data | Crimes](https://data.cityofchicago.org/Public-Safety/Crimes-2001-to-present/ijzp-q8t2) page.\n",
    "1. In the `Primary Type` column, click on the `Menu` button next to the info button, and select `Filter This Column`. It might take a second for the filter option to show up, since it has to load the entire list first.\n",
    "1. Scroll down to `GAMBLING`\n",
    "1. Click the light blue `Export` button next to the `Filter` button, and select `Download As CSV`"
   ]
  },
  {
   "cell_type": "markdown",
   "metadata": {},
   "source": [
    "Now that you have th dataset stored as a CSV, load it up being careful to double check headers, as per usual:"
   ]
  },
  {
   "cell_type": "code",
   "execution_count": 2,
   "metadata": {},
   "outputs": [],
   "source": [
    "# .. your code here ..\n",
    "#Uploaded the 2018 crime scene dataset file since the 2001 to present dataset file is too large\n",
    "df = pd.read_csv('Datasets/Crimes_-_2018.csv')"
   ]
  },
  {
   "cell_type": "markdown",
   "metadata": {},
   "source": [
    "Get rid of any _rows_ that have nans in them:"
   ]
  },
  {
   "cell_type": "code",
   "execution_count": 3,
   "metadata": {},
   "outputs": [
    {
     "data": {
      "text/html": [
       "<div>\n",
       "<style scoped>\n",
       "    .dataframe tbody tr th:only-of-type {\n",
       "        vertical-align: middle;\n",
       "    }\n",
       "\n",
       "    .dataframe tbody tr th {\n",
       "        vertical-align: top;\n",
       "    }\n",
       "\n",
       "    .dataframe thead th {\n",
       "        text-align: right;\n",
       "    }\n",
       "</style>\n",
       "<table border=\"1\" class=\"dataframe\">\n",
       "  <thead>\n",
       "    <tr style=\"text-align: right;\">\n",
       "      <th></th>\n",
       "      <th>ID</th>\n",
       "      <th>Case Number</th>\n",
       "      <th>Date</th>\n",
       "      <th>Block</th>\n",
       "      <th>IUCR</th>\n",
       "      <th>Primary Type</th>\n",
       "      <th>Description</th>\n",
       "      <th>Location Description</th>\n",
       "      <th>Arrest</th>\n",
       "      <th>Domestic</th>\n",
       "      <th>...</th>\n",
       "      <th>Ward</th>\n",
       "      <th>Community Area</th>\n",
       "      <th>FBI Code</th>\n",
       "      <th>X Coordinate</th>\n",
       "      <th>Y Coordinate</th>\n",
       "      <th>Year</th>\n",
       "      <th>Updated On</th>\n",
       "      <th>Latitude</th>\n",
       "      <th>Longitude</th>\n",
       "      <th>Location</th>\n",
       "    </tr>\n",
       "  </thead>\n",
       "  <tbody>\n",
       "    <tr>\n",
       "      <th>11</th>\n",
       "      <td>24059</td>\n",
       "      <td>JB350418</td>\n",
       "      <td>07/15/2018 07:45:00 AM</td>\n",
       "      <td>009XX N KEDVALE AVE</td>\n",
       "      <td>0110</td>\n",
       "      <td>HOMICIDE</td>\n",
       "      <td>FIRST DEGREE MURDER</td>\n",
       "      <td>STREET</td>\n",
       "      <td>True</td>\n",
       "      <td>False</td>\n",
       "      <td>...</td>\n",
       "      <td>37.0</td>\n",
       "      <td>23.0</td>\n",
       "      <td>01A</td>\n",
       "      <td>1148545.0</td>\n",
       "      <td>1905987.0</td>\n",
       "      <td>2018</td>\n",
       "      <td>04/06/2019 03:57:03 PM</td>\n",
       "      <td>41.897967</td>\n",
       "      <td>-87.729856</td>\n",
       "      <td>(41.89796724, -87.729855801)</td>\n",
       "    </tr>\n",
       "    <tr>\n",
       "      <th>13</th>\n",
       "      <td>11535633</td>\n",
       "      <td>JB553685</td>\n",
       "      <td>12/14/2018 08:06:00 PM</td>\n",
       "      <td>006XX E 103RD ST</td>\n",
       "      <td>1150</td>\n",
       "      <td>DECEPTIVE PRACTICE</td>\n",
       "      <td>CREDIT CARD FRAUD</td>\n",
       "      <td>STREET</td>\n",
       "      <td>False</td>\n",
       "      <td>False</td>\n",
       "      <td>...</td>\n",
       "      <td>9.0</td>\n",
       "      <td>50.0</td>\n",
       "      <td>11</td>\n",
       "      <td>1182674.0</td>\n",
       "      <td>1836816.0</td>\n",
       "      <td>2018</td>\n",
       "      <td>04/06/2019 03:57:03 PM</td>\n",
       "      <td>41.707429</td>\n",
       "      <td>-87.606652</td>\n",
       "      <td>(41.707429221, -87.60665223)</td>\n",
       "    </tr>\n",
       "    <tr>\n",
       "      <th>14</th>\n",
       "      <td>11521050</td>\n",
       "      <td>JB534187</td>\n",
       "      <td>11/30/2018 05:48:00 AM</td>\n",
       "      <td>025XX W PETERSON AVE</td>\n",
       "      <td>0620</td>\n",
       "      <td>BURGLARY</td>\n",
       "      <td>UNLAWFUL ENTRY</td>\n",
       "      <td>CONVENIENCE STORE</td>\n",
       "      <td>True</td>\n",
       "      <td>False</td>\n",
       "      <td>...</td>\n",
       "      <td>40.0</td>\n",
       "      <td>2.0</td>\n",
       "      <td>05</td>\n",
       "      <td>1158400.0</td>\n",
       "      <td>1939772.0</td>\n",
       "      <td>2018</td>\n",
       "      <td>04/06/2019 03:57:03 PM</td>\n",
       "      <td>41.990479</td>\n",
       "      <td>-87.692732</td>\n",
       "      <td>(41.990479499, -87.692731805)</td>\n",
       "    </tr>\n",
       "    <tr>\n",
       "      <th>17</th>\n",
       "      <td>11485534</td>\n",
       "      <td>JB486985</td>\n",
       "      <td>10/22/2018 05:45:00 PM</td>\n",
       "      <td>008XX W 78TH ST</td>\n",
       "      <td>1565</td>\n",
       "      <td>SEX OFFENSE</td>\n",
       "      <td>INDECENT SOLICITATION/CHILD</td>\n",
       "      <td>APARTMENT</td>\n",
       "      <td>True</td>\n",
       "      <td>False</td>\n",
       "      <td>...</td>\n",
       "      <td>17.0</td>\n",
       "      <td>71.0</td>\n",
       "      <td>17</td>\n",
       "      <td>1171858.0</td>\n",
       "      <td>1853128.0</td>\n",
       "      <td>2018</td>\n",
       "      <td>04/06/2019 03:57:03 PM</td>\n",
       "      <td>41.752435</td>\n",
       "      <td>-87.645783</td>\n",
       "      <td>(41.752435273, -87.645783303)</td>\n",
       "    </tr>\n",
       "    <tr>\n",
       "      <th>44</th>\n",
       "      <td>24095</td>\n",
       "      <td>JB372197</td>\n",
       "      <td>07/30/2018 10:27:00 PM</td>\n",
       "      <td>047XX S FORRESTVILLE AVE</td>\n",
       "      <td>0110</td>\n",
       "      <td>HOMICIDE</td>\n",
       "      <td>FIRST DEGREE MURDER</td>\n",
       "      <td>STREET</td>\n",
       "      <td>True</td>\n",
       "      <td>False</td>\n",
       "      <td>...</td>\n",
       "      <td>3.0</td>\n",
       "      <td>38.0</td>\n",
       "      <td>01A</td>\n",
       "      <td>1180724.0</td>\n",
       "      <td>1873803.0</td>\n",
       "      <td>2018</td>\n",
       "      <td>04/05/2019 03:59:08 PM</td>\n",
       "      <td>41.808970</td>\n",
       "      <td>-87.612658</td>\n",
       "      <td>(41.808970443, -87.612658422)</td>\n",
       "    </tr>\n",
       "  </tbody>\n",
       "</table>\n",
       "<p>5 rows × 22 columns</p>\n",
       "</div>"
      ],
      "text/plain": [
       "          ID Case Number                    Date                     Block  \\\n",
       "11     24059    JB350418  07/15/2018 07:45:00 AM       009XX N KEDVALE AVE   \n",
       "13  11535633    JB553685  12/14/2018 08:06:00 PM          006XX E 103RD ST   \n",
       "14  11521050    JB534187  11/30/2018 05:48:00 AM      025XX W PETERSON AVE   \n",
       "17  11485534    JB486985  10/22/2018 05:45:00 PM           008XX W 78TH ST   \n",
       "44     24095    JB372197  07/30/2018 10:27:00 PM  047XX S FORRESTVILLE AVE   \n",
       "\n",
       "    IUCR        Primary Type                  Description  \\\n",
       "11  0110            HOMICIDE          FIRST DEGREE MURDER   \n",
       "13  1150  DECEPTIVE PRACTICE            CREDIT CARD FRAUD   \n",
       "14  0620            BURGLARY               UNLAWFUL ENTRY   \n",
       "17  1565         SEX OFFENSE  INDECENT SOLICITATION/CHILD   \n",
       "44  0110            HOMICIDE          FIRST DEGREE MURDER   \n",
       "\n",
       "   Location Description  Arrest  Domestic              ...                \\\n",
       "11               STREET    True     False              ...                 \n",
       "13               STREET   False     False              ...                 \n",
       "14    CONVENIENCE STORE    True     False              ...                 \n",
       "17            APARTMENT    True     False              ...                 \n",
       "44               STREET    True     False              ...                 \n",
       "\n",
       "    Ward  Community Area  FBI Code  X Coordinate Y Coordinate  Year  \\\n",
       "11  37.0            23.0       01A     1148545.0    1905987.0  2018   \n",
       "13   9.0            50.0        11     1182674.0    1836816.0  2018   \n",
       "14  40.0             2.0        05     1158400.0    1939772.0  2018   \n",
       "17  17.0            71.0        17     1171858.0    1853128.0  2018   \n",
       "44   3.0            38.0       01A     1180724.0    1873803.0  2018   \n",
       "\n",
       "                Updated On   Latitude  Longitude  \\\n",
       "11  04/06/2019 03:57:03 PM  41.897967 -87.729856   \n",
       "13  04/06/2019 03:57:03 PM  41.707429 -87.606652   \n",
       "14  04/06/2019 03:57:03 PM  41.990479 -87.692732   \n",
       "17  04/06/2019 03:57:03 PM  41.752435 -87.645783   \n",
       "44  04/05/2019 03:59:08 PM  41.808970 -87.612658   \n",
       "\n",
       "                         Location  \n",
       "11   (41.89796724, -87.729855801)  \n",
       "13   (41.707429221, -87.60665223)  \n",
       "14  (41.990479499, -87.692731805)  \n",
       "17  (41.752435273, -87.645783303)  \n",
       "44  (41.808970443, -87.612658422)  \n",
       "\n",
       "[5 rows x 22 columns]"
      ]
     },
     "execution_count": 3,
     "metadata": {},
     "output_type": "execute_result"
    }
   ],
   "source": [
    "# .. your code here ..\n",
    "df.dropna(axis = 0, how = 'any', inplace = True)\n",
    "df.head()"
   ]
  },
  {
   "cell_type": "markdown",
   "metadata": {},
   "source": [
    "Display the `dtypes` of your dset:"
   ]
  },
  {
   "cell_type": "code",
   "execution_count": 4,
   "metadata": {},
   "outputs": [
    {
     "data": {
      "text/plain": [
       "ID                        int64\n",
       "Case Number              object\n",
       "Date                     object\n",
       "Block                    object\n",
       "IUCR                     object\n",
       "Primary Type             object\n",
       "Description              object\n",
       "Location Description     object\n",
       "Arrest                     bool\n",
       "Domestic                   bool\n",
       "Beat                      int64\n",
       "District                  int64\n",
       "Ward                    float64\n",
       "Community Area          float64\n",
       "FBI Code                 object\n",
       "X Coordinate            float64\n",
       "Y Coordinate            float64\n",
       "Year                      int64\n",
       "Updated On               object\n",
       "Latitude                float64\n",
       "Longitude               float64\n",
       "Location                 object\n",
       "dtype: object"
      ]
     },
     "execution_count": 4,
     "metadata": {},
     "output_type": "execute_result"
    }
   ],
   "source": [
    "# .. your code here ..\n",
    "df.dtypes"
   ]
  },
  {
   "cell_type": "markdown",
   "metadata": {},
   "source": [
    "Coerce the `Date` feature (which is currently a string object) into real date, and confirm by displaying the `dtypes` again. This might be a slow executing process..."
   ]
  },
  {
   "cell_type": "code",
   "execution_count": 5,
   "metadata": {},
   "outputs": [
    {
     "data": {
      "text/plain": [
       "ID                               int64\n",
       "Case Number                     object\n",
       "Date                    datetime64[ns]\n",
       "Block                           object\n",
       "IUCR                            object\n",
       "Primary Type                    object\n",
       "Description                     object\n",
       "Location Description            object\n",
       "Arrest                            bool\n",
       "Domestic                          bool\n",
       "Beat                             int64\n",
       "District                         int64\n",
       "Ward                           float64\n",
       "Community Area                 float64\n",
       "FBI Code                        object\n",
       "X Coordinate                   float64\n",
       "Y Coordinate                   float64\n",
       "Year                             int64\n",
       "Updated On                      object\n",
       "Latitude                       float64\n",
       "Longitude                      float64\n",
       "Location                        object\n",
       "dtype: object"
      ]
     },
     "execution_count": 5,
     "metadata": {},
     "output_type": "execute_result"
    }
   ],
   "source": [
    "# .. your code here ..\n",
    "df.Date = pd.to_datetime(df['Date'])\n",
    "df.dtypes"
   ]
  },
  {
   "cell_type": "code",
   "execution_count": 22,
   "metadata": {},
   "outputs": [],
   "source": [
    "def doKMeans(df):\n",
    "    # Let's plot your data with a '.' marker, a 0.3 alpha at the Longitude,\n",
    "    # and Latitude locations in your dataset. Longitude = x, Latitude = y\n",
    "    fig = plt.figure()\n",
    "    ax = fig.add_subplot(111)\n",
    "    ax.scatter(df.Longitude, df.Latitude, marker='.', alpha=0.3)\n",
    "\n",
    "    \n",
    "    # TODO: Filter `df` using indexing so it only contains Longitude and Latitude,\n",
    "    # since the remaining columns aren't really applicable for this lab:\n",
    "    #\n",
    "    # .. your code here ..\n",
    "    df1 = pd.concat([df.Longitude, df.Latitude], axis = 1)\n",
    "\n",
    "    # TODO: Use K-Means to try and find seven cluster centers in this df.\n",
    "    # Be sure to name your kmeans model `model` so that the printing works.\n",
    "    #\n",
    "    # .. your code here ..\n",
    "    model = KMeans(n_clusters = 7)\n",
    "    model.fit_predict(df1)\n",
    "\n",
    "    # Now we can print and plot the centroids:\n",
    "    centroids = model.cluster_centers_\n",
    "    print(centroids)\n",
    "    ax.scatter(centroids[:,0], centroids[:,1], marker='x', c='red', alpha=0.5, linewidths=3, s=169)\n",
    "    return centroids"
   ]
  },
  {
   "cell_type": "code",
   "execution_count": 23,
   "metadata": {},
   "outputs": [
    {
     "name": "stdout",
     "output_type": "stream",
     "text": [
      "[[-87.68446653  41.78023951]\n",
      " [-87.72445114  41.88174136]\n",
      " [-87.63964812  41.88259013]\n",
      " [-87.68003299  41.96591888]\n",
      " [-87.63350761  41.70135758]\n",
      " [-87.78079021  41.94748137]\n",
      " [-87.59512886  41.76458513]]\n"
     ]
    },
    {
     "data": {
      "image/png": "[encoded data removed]",
      "text/plain": [
       "<Figure size 432x288 with 1 Axes>"
      ]
     },
     "metadata": {},
     "output_type": "display_data"
    }
   ],
   "source": [
    "# Print & Plot your data\n",
    "kmean1 = doKMeans(df)\n"
   ]
  },
  {
   "cell_type": "code",
   "execution_count": 27,
   "metadata": {},
   "outputs": [
    {
     "data": {
      "text/plain": [
       "DescribeResult(nobs=7, minmax=(array([-87.78079021,  41.70135758]), array([-87.59512886,  41.96591888])), mean=array([-87.67686078,  41.84627342]), variance=array([0.00384641, 0.0098615 ]), skewness=array([-0.41643986, -0.19015727]), kurtosis=array([-0.74109321, -1.36499455]))"
      ]
     },
     "execution_count": 27,
     "metadata": {},
     "output_type": "execute_result"
    }
   ],
   "source": [
    "#Displaying some statistical facts of the centroid location kmean1\n",
    "stats.describe(kmean1)"
   ]
  },
  {
   "cell_type": "markdown",
   "metadata": {},
   "source": [
    "Filter out the data so that it only contains samples that have a `Date > '2011-01-01'`, using indexing. Then, in a new figure, plot the crime incidents, as well as a new K-Means run's centroids."
   ]
  },
  {
   "cell_type": "code",
   "execution_count": 28,
   "metadata": {},
   "outputs": [],
   "source": [
    "# .. your code here ..\n",
    "#Since I have have the data in 2018. Filter out the data after 2018-07-01\n",
    "df2 = df[df['Date'] > '2018-07-01']"
   ]
  },
  {
   "cell_type": "code",
   "execution_count": 29,
   "metadata": {},
   "outputs": [
    {
     "name": "stdout",
     "output_type": "stream",
     "text": [
      "[[-87.72403151  41.88140533]\n",
      " [-87.59471852  41.76413043]\n",
      " [-87.6790019   41.96633318]\n",
      " [-87.68384853  41.77990141]\n",
      " [-87.77887973  41.94626388]\n",
      " [-87.64003288  41.88308449]\n",
      " [-87.63297454  41.70103205]]\n"
     ]
    },
    {
     "data": {
      "image/png": "[encoded data removed]",
      "text/plain": [
       "<Figure size 432x288 with 1 Axes>"
      ]
     },
     "metadata": {},
     "output_type": "display_data"
    }
   ],
   "source": [
    "# Print & Plot your data\n",
    "kmean2 = doKMeans(df2)"
   ]
  },
  {
   "cell_type": "code",
   "execution_count": 30,
   "metadata": {},
   "outputs": [
    {
     "data": {
      "text/plain": [
       "DescribeResult(nobs=7, minmax=(array([-87.77887973,  41.70103205]), array([-87.59471852,  41.96633318])), mean=array([-87.67621252,  41.84602154]), variance=array([0.00378551, 0.00987485]), skewness=array([-0.40390268, -0.19119672]), kurtosis=array([-0.75229341, -1.36496664]))"
      ]
     },
     "execution_count": 30,
     "metadata": {},
     "output_type": "execute_result"
    }
   ],
   "source": [
    "#Displaying some statistical facts of the centroid location kmean2\n",
    "stats.describe(kmean2)"
   ]
  },
  {
   "cell_type": "code",
   "execution_count": null,
   "metadata": {},
   "outputs": [],
   "source": [
    "#Question\n",
    "#Did your centroid locations change after you limited the date range to +2011?\n",
    "#Answer: The centroid location did not change much by comparing the means of kmean1 and kmean2\n"
   ]
  }
 ],
 "metadata": {
  "anaconda-cloud": {},
  "kernelspec": {
   "display_name": "Python 3",
   "language": "python",
   "name": "python3"
  },
  "language_info": {
   "codemirror_mode": {
    "name": "ipython",
    "version": 3
   },
   "file_extension": ".py",
   "mimetype": "text/x-python",
   "name": "python",
   "nbconvert_exporter": "python",
   "pygments_lexer": "ipython3",
   "version": "3.6.5"
  },
  "toc": {
   "colors": {
    "hover_highlight": "#DAA520",
    "running_highlight": "#FF0000",
    "selected_highlight": "#FFD700"
   },
   "moveMenuLeft": true,
   "nav_menu": {
    "height": "58px",
    "width": "252px"
   },
   "navigate_menu": true,
   "number_sections": true,
   "sideBar": true,
   "threshold": 4,
   "toc_cell": false,
   "toc_section_display": "block",
   "toc_window_display": false,
   "widenNotebook": false
  }
 },
 "nbformat": 4,
 "nbformat_minor": 2
}
